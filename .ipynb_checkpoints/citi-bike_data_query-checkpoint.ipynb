{
 "cells": [
  {
   "cell_type": "code",
   "execution_count": 1,
   "id": "481d1c37",
   "metadata": {},
   "outputs": [],
   "source": [
    "# Import Dependencies\n",
    "import pandas as pd"
   ]
  },
  {
   "cell_type": "code",
   "execution_count": 2,
   "id": "faa806d9",
   "metadata": {},
   "outputs": [],
   "source": [
    "# Read the three data files into separate DataFrames\n",
    "df1 = pd.read_csv('Resources/JC-202401-citibike-tripdata.csv')\n",
    "df2 = pd.read_csv('Resources/JC-202301-citibike-tripdata.csv')\n",
    "df3 = pd.read_csv('Resources/JC-202201-citibike-tripdata.csv')"
   ]
  },
  {
   "cell_type": "code",
   "execution_count": 3,
   "id": "478322ad",
   "metadata": {},
   "outputs": [],
   "source": [
    "# Combine the three DataFrames into a single DataFrame\n",
    "combined_df = pd.concat([df1, df2, df3])"
   ]
  },
  {
   "cell_type": "code",
   "execution_count": 4,
   "id": "8b34d342",
   "metadata": {},
   "outputs": [],
   "source": [
    "# Export the combined DataFrame to a CSV file\n",
    "combined_df.to_csv('2022-2024_combined_citi-bike_data.csv', index=False)"
   ]
  }
 ],
 "metadata": {
  "kernelspec": {
   "display_name": "Python 3 (ipykernel)",
   "language": "python",
   "name": "python3"
  },
  "language_info": {
   "codemirror_mode": {
    "name": "ipython",
    "version": 3
   },
   "file_extension": ".py",
   "mimetype": "text/x-python",
   "name": "python",
   "nbconvert_exporter": "python",
   "pygments_lexer": "ipython3",
   "version": "3.7.16"
  }
 },
 "nbformat": 4,
 "nbformat_minor": 5
}
